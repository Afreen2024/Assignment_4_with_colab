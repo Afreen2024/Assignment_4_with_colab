{
  "nbformat": 4,
  "nbformat_minor": 0,
  "metadata": {
    "colab": {
      "provenance": [],
      "authorship_tag": "ABX9TyOazIxnueNMx6F4sYc6cOs4",
      "include_colab_link": true
    },
    "kernelspec": {
      "name": "python3",
      "display_name": "Python 3"
    },
    "language_info": {
      "name": "python"
    }
  },
  "cells": [
    {
      "cell_type": "markdown",
      "metadata": {
        "id": "view-in-github",
        "colab_type": "text"
      },
      "source": [
        "<a href=\"https://colab.research.google.com/github/Afreen2024/Assignment_4_with_colab/blob/main/03_if_statement.ipynb\" target=\"_parent\"><img src=\"https://colab.research.google.com/assets/colab-badge.svg\" alt=\"Open In Colab\"/></a>"
      ]
    },
    {
      "cell_type": "code",
      "execution_count": null,
      "metadata": {
        "id": "l2RdLhbo91n0"
      },
      "outputs": [],
      "source": [
        "def main():\n",
        "    for i in range (20):\n",
        "        print(i*2)\n",
        "main()"
      ]
    },
    {
      "cell_type": "code",
      "source": [
        "year=int(input(\"Enter a Year \"))\n",
        "\n",
        "if (year % 4 ==0 and year % 100!= 0) or ( year %400==0):\n",
        "\n",
        "    print(\"its a lead year\")\n",
        "else:\n",
        "    print(\"its not Lead Year\")"
      ],
      "metadata": {
        "id": "LBPlvcjI-Fkp"
      },
      "execution_count": null,
      "outputs": []
    },
    {
      "cell_type": "code",
      "source": [
        "import random\n",
        "\n",
        "for _ in range(10):\n",
        "    print(random.randint(1,100),end=\" \")"
      ],
      "metadata": {
        "id": "bLDxUtAU-KGY"
      },
      "execution_count": null,
      "outputs": []
    },
    {
      "cell_type": "code",
      "source": [
        "height=int(input(\"Enter your Height \"))\n",
        "\n",
        "if height >= 50:\n",
        "    print(\"You're tall enough to ride\")\n",
        "else:\n",
        "    print(\"You're not tall enough to ride\")"
      ],
      "metadata": {
        "id": "dy2mzdI--Rms"
      },
      "execution_count": null,
      "outputs": []
    },
    {
      "cell_type": "code",
      "source": [
        "age=int(input(\"Enter your Age \"))\n",
        "if age >=16:\n",
        "    print(\"ap Peturksbouipo mai vote dy sakty hai\")\n",
        "else:\n",
        "    print(\"ap Peturksbouipo mai vote NAHI dy sakty hai\")\n",
        "if age >=25:\n",
        "    print(\"ap Stanlau mai vote dy sakty hai\")\n",
        "else:\n",
        "    print(\"ap Stanlau mai vote NAHI dy sakty hai\")\n",
        "if age >=48:\n",
        "    print(\"ap Mayengua mai vote dy sakty hai\")\n",
        "else:\n",
        "    print(\"ap Mayengua mai vote NAHI dy sakty hai\")"
      ],
      "metadata": {
        "id": "fTQ0B2la-ZL4"
      },
      "execution_count": null,
      "outputs": []
    }
  ]
}