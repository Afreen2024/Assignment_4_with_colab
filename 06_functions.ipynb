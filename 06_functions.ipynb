{
  "nbformat": 4,
  "nbformat_minor": 0,
  "metadata": {
    "colab": {
      "provenance": [],
      "authorship_tag": "ABX9TyMSexTJeK//Rsbu6daP+ran",
      "include_colab_link": true
    },
    "kernelspec": {
      "name": "python3",
      "display_name": "Python 3"
    },
    "language_info": {
      "name": "python"
    }
  },
  "cells": [
    {
      "cell_type": "markdown",
      "metadata": {
        "id": "view-in-github",
        "colab_type": "text"
      },
      "source": [
        "<a href=\"https://colab.research.google.com/github/Afreen2024/Assignment_4_with_colab/blob/main/06_functions.ipynb\" target=\"_parent\"><img src=\"https://colab.research.google.com/assets/colab-badge.svg\" alt=\"Open In Colab\"/></a>"
      ]
    },
    {
      "cell_type": "code",
      "execution_count": null,
      "metadata": {
        "id": "VVpSAH6CEzML"
      },
      "outputs": [],
      "source": [
        "def average(num1,num2):\n",
        "    result=( num1+num2)/2\n",
        "    print(result)\n",
        "\n",
        "\n",
        "average(10,20)"
      ]
    },
    {
      "cell_type": "code",
      "source": [
        "import random\n",
        "\n",
        "DONE_LIKELIHOOD = 0.2  # 20% chance hai ke counting ruk sakti hai\n",
        "\n",
        "def done():\n",
        "    return random.random() < DONE_LIKELIHOOD  # Agar random value 0.2 se kam ho to True return karega\n",
        "\n",
        "def chaotic_counting():\n",
        "    for i in range(1, 11):  # 1 se 10 tak loop chalega\n",
        "        if done():  # Har number se pehle check karna ki kya stop karna hai\n",
        "            return  # Agar `done()` True return kare to function turant ruk jaye\n",
        "        print(i, end=\" \")  # Number print kare\n",
        "\n",
        "def main():\n",
        "    print(\"I'm going to count until 10 or until I feel like stopping, whichever comes first.\")\n",
        "    chaotic_counting()  # Counting function call karna\n",
        "    print(\"I'm done.\")  # Jab counting stop ho jaye to ye print hoga\n",
        "\n",
        "main()"
      ],
      "metadata": {
        "id": "cqjYslxPE_nt"
      },
      "execution_count": null,
      "outputs": []
    },
    {
      "cell_type": "code",
      "source": [
        "def print_divisor(num):\n",
        "    for i in range(1,num+1):\n",
        "        if num % 2==0:\n",
        "            print(i, end=\" \")\n",
        "def main():\n",
        "    num=int(input(\"enter a number \"))\n",
        "    print(f\"Divisor number is {num}\")\n",
        "    print_divisor(12)\n",
        "main()"
      ],
      "metadata": {
        "id": "OHn5l3WfFGgt"
      },
      "execution_count": null,
      "outputs": []
    },
    {
      "cell_type": "code",
      "source": [
        "def double(num):\n",
        "    result= num*2\n",
        "    print(f\"{num} doubled and result {result}\")\n",
        "double(2)"
      ],
      "metadata": {
        "id": "SD1h2X4iFLU0"
      },
      "execution_count": null,
      "outputs": []
    },
    {
      "cell_type": "code",
      "source": [
        "def even_list(lst):\n",
        "    count=0\n",
        "    for num in lst:\n",
        "        if num % 2 == 0:\n",
        "            count += 1\n",
        "    print(f\"There are {count} Even number in the list\")\n",
        "def main():\n",
        "    lst=[]\n",
        "    while True:\n",
        "        user_input=input(\"Enter any Integer or press Enter to stop \")\n",
        "\n",
        "        if user_input ==\"\":\n",
        "         break\n",
        "\n",
        "        lst.append(int(user_input))\n",
        "    even_list(lst)\n",
        "main()"
      ],
      "metadata": {
        "id": "EO4gE0jwFRkt"
      },
      "execution_count": null,
      "outputs": []
    },
    {
      "cell_type": "code",
      "source": [
        "def get_name():\n",
        "    return 'afreen'\n",
        "\n",
        "def get_greeting():\n",
        "    name=get_name()\n",
        "    print(f\"GOOd Moring {name}\")\n",
        "get_greeting()"
      ],
      "metadata": {
        "id": "HQ3E77iwFTjp"
      },
      "execution_count": null,
      "outputs": []
    },
    {
      "cell_type": "code",
      "source": [
        "def one_dig_number(num):\n",
        "    last_digt=num % 10\n",
        "    print(f\" The last digit is {last_digt}\")\n",
        "def main():\n",
        "    num=int(input(\"plz enter a number \"))\n",
        "\n",
        "    one_dig_number(num)\n",
        "main()"
      ],
      "metadata": {
        "id": "ccf8dk0KFY-4"
      },
      "execution_count": null,
      "outputs": []
    },
    {
      "cell_type": "code",
      "source": [
        "def even_odd():\n",
        "    for num in range(10,20):\n",
        "        if num % 2 ==0:\n",
        "            print(f\"{num} Even Numder\")\n",
        "        else:\n",
        "            print(f\"{num} Odd Numder\")\n",
        "even_odd()"
      ],
      "metadata": {
        "id": "7m0I_sKOFdix"
      },
      "execution_count": null,
      "outputs": []
    },
    {
      "cell_type": "code",
      "source": [
        "def order(you_order, condition):\n",
        "    if you_order == 1:\n",
        "        print(f\"ap ka order save kar lia {condition} bany mai 10 mint lagaengy plz wait...(',') \")\n",
        "\n",
        "    elif you_order == 2:\n",
        "        print(f\"ap ka order save kar lia {condition} bany mai 15 mint lagaengy plz wait...(',') \")\n",
        "    elif you_order == 3:\n",
        "        print(f\"ap ka order save kar lia {condition} bany mai 20 mint lagaengy plz wait...(',') \")\n",
        "    else:\n",
        "        print(\"Apny Galt output kia hai plz press 1 , 2 or 3 only\")\n",
        "\n",
        "\n",
        "user_order=int(input(\"Desi khano k lie 1 press kary , fast food k lie 2 press kary , chinese dish k lie 3 press kary  \"))\n",
        "user_input=input(\"apna food oder kary enter press kary phly  \")\n",
        "order(user_order,user_input)"
      ],
      "metadata": {
        "id": "gUPaj_Y3Fi_t"
      },
      "execution_count": null,
      "outputs": []
    },
    {
      "cell_type": "code",
      "source": [
        "def print_multiply(message , repeat):\n",
        "    for  _ in range(repeat):\n",
        "        print(message)\n",
        "def main():\n",
        "    message=input(\"Please Entrer a Message \")\n",
        "    repeat=int(input(\"Please Enter a number you want print \"))\n",
        "    print_multiply(message,repeat)\n",
        "main()"
      ],
      "metadata": {
        "id": "gw_XoiatFtNR"
      },
      "execution_count": null,
      "outputs": []
    }
  ]
}