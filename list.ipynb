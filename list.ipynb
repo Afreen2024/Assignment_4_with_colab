{
  "nbformat": 4,
  "nbformat_minor": 0,
  "metadata": {
    "colab": {
      "provenance": [],
      "authorship_tag": "ABX9TyN/9RpcUvfZr7HF+JUeRE3B",
      "include_colab_link": true
    },
    "kernelspec": {
      "name": "python3",
      "display_name": "Python 3"
    },
    "language_info": {
      "name": "python"
    }
  },
  "cells": [
    {
      "cell_type": "markdown",
      "metadata": {
        "id": "view-in-github",
        "colab_type": "text"
      },
      "source": [
        "<a href=\"https://colab.research.google.com/github/Afreen2024/Assignment_4_with_colab/blob/main/list.ipynb\" target=\"_parent\"><img src=\"https://colab.research.google.com/assets/colab-badge.svg\" alt=\"Open In Colab\"/></a>"
      ]
    },
    {
      "cell_type": "code",
      "execution_count": null,
      "metadata": {
        "id": "waj8KUT2aQWm"
      },
      "outputs": [],
      "source": [
        "def sum_of_numbers(numbers):\n",
        "    return sum(numbers)\n",
        "numbers:int=[1,2,3,4,5]\n",
        "result=sum_of_numbers(numbers)\n",
        "print(result)"
      ]
    },
    {
      "cell_type": "code",
      "source": [
        "def add_three_copies(my_list, data):\n",
        "    my_list.append(data)  # Pehli copy\n",
        "    my_list.append(data)  # Doosri copy\n",
        "    my_list.append(data)  # Teesri copy\n",
        "\n",
        "# User se input lena\n",
        "message = input(\"Enter a message to copy: \")\n",
        "\n",
        "# Empty list shuru mein\n",
        "my_list = []\n",
        "\n",
        "# List ka initial state print karna\n",
        "print(\"List before:\", my_list)\n",
        "\n",
        "# Function call karna (return nahi karega, magar list modify ho jayegi)\n",
        "add_three_copies(my_list, message)\n",
        "\n",
        "# List ka final state print karna\n",
        "print(\"List after:\", my_list)\n",
        "\n",
        "print(\"List before:\", my_list)\n",
        "print(\"List after:\", my_list)\n"
      ],
      "metadata": {
        "id": "6GjPJQX8aWi7"
      },
      "execution_count": null,
      "outputs": []
    },
    {
      "cell_type": "code",
      "source": [
        "def number():\n",
        "    number=[1,2,3,4]\n",
        "    for i in range(len(number)):\n",
        "        number[i]=number[i]*2\n",
        "    print(number)\n",
        "number()\n"
      ],
      "metadata": {
        "id": "lj7tXCEabAaZ"
      },
      "execution_count": null,
      "outputs": []
    },
    {
      "cell_type": "code",
      "source": [
        "def get_1st_element(lst):\n",
        "    print(\"only first element is\",lst[0])\n",
        "user_list=[]\n",
        "n=int(input(\"ap kitny element input karna chahty hai \"))\n",
        "for i in range(n):\n",
        "    element=input(f\"{i*n} Element Enter kary plz \")\n",
        "    user_list.append(element)\n",
        "get_1st_element(user_list)"
      ],
      "metadata": {
        "id": "twxQsc7gbKLK"
      },
      "execution_count": null,
      "outputs": []
    },
    {
      "cell_type": "code",
      "source": [
        "def get_list():\n",
        "    value=[]\n",
        "\n",
        "    while True:\n",
        "        user_input=input(\"Enter a user input \")\n",
        "        if user_input ==\"\":\n",
        "         break\n",
        "        value.append(user_input)\n",
        "    print(\"Here a Value is\",value)\n",
        "get_list()"
      ],
      "metadata": {
        "id": "d42yfMJ6bP6B"
      },
      "execution_count": null,
      "outputs": []
    },
    {
      "cell_type": "code",
      "source": [
        "def last_digit(lst):\n",
        "    print(\"Last value is\",lst[-1])\n",
        "last_digit([1,23,32,450])\n",
        "last_digit(['a','b','c','dd'])"
      ],
      "metadata": {
        "id": "0RR6W4VYbazd"
      },
      "execution_count": null,
      "outputs": []
    },
    {
      "cell_type": "code",
      "source": [
        "MAX_LENGHT =3\n",
        "\n",
        "def shoten(lst):\n",
        "    while len(lst) > MAX_LENGHT:\n",
        "        removed_item=lst.pop()\n",
        "        print(\"Removed\",removed_item)\n",
        "    print('final list', lst)\n",
        "shoten([1,2,3,4,5,6])\n",
        "shoten(['a','b','c','d','e','f'])\n",
        "shoten(['apple', 'mango', 'banana','cherry'])"
      ],
      "metadata": {
        "id": "2m_PqQq4bcLm"
      },
      "execution_count": null,
      "outputs": []
    }
  ]
}