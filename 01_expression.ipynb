{
  "nbformat": 4,
  "nbformat_minor": 0,
  "metadata": {
    "colab": {
      "provenance": [],
      "authorship_tag": "ABX9TyPaww7jhTvU/twM/4fA0XDo",
      "include_colab_link": true
    },
    "kernelspec": {
      "name": "python3",
      "display_name": "Python 3"
    },
    "language_info": {
      "name": "python"
    }
  },
  "cells": [
    {
      "cell_type": "markdown",
      "metadata": {
        "id": "view-in-github",
        "colab_type": "text"
      },
      "source": [
        "<a href=\"https://colab.research.google.com/github/Afreen2024/Assignment_4_with_colab/blob/main/01_expression.ipynb\" target=\"_parent\"><img src=\"https://colab.research.google.com/assets/colab-badge.svg\" alt=\"Open In Colab\"/></a>"
      ]
    },
    {
      "cell_type": "code",
      "execution_count": null,
      "metadata": {
        "id": "jhjc_DjWXEPe"
      },
      "outputs": [],
      "source": [
        "def roll_dice():\n",
        "    return random.randint(1, 6), random.randint(1, 6)\n",
        "\n",
        "\n",
        "def simulate_rolls():\n",
        "\n",
        "    for i in range(3):\n",
        "        die1, die2 = roll_dice()\n",
        "        print(f\"Roll {i+1}: Die 1 = {die1}, Die 2 = {die2}\")\n",
        "\n",
        "\n",
        "simulate_rolls()"
      ]
    },
    {
      "cell_type": "code",
      "source": [
        "\n",
        "C=299792458\n",
        "\n",
        "def afreen():\n",
        "    kilogram_mass: float=float(input(\"Enter a value for measure of KIlOGRAM IN MASS \"))\n",
        "    energy_in_joule=kilogram_mass*(C**2)\n",
        "\n",
        "    print(\"Energy formula is e=mc2\")\n",
        "    print(f\"m={kilogram_mass} kg\")\n",
        "    print(f\"C {C} constant value\")\n",
        "    print(f\"e={energy_in_joule} joule in energy\")\n",
        "afreen()"
      ],
      "metadata": {
        "id": "jv3EVuxHYPvg"
      },
      "execution_count": null,
      "outputs": []
    },
    {
      "cell_type": "code",
      "source": [
        "inche_in_foot:int=12\n",
        "\n",
        "def main():\n",
        "    feet:float=float(input('enter a Foot '))\n",
        "    inches=inche_in_foot*feet\n",
        "    print(f\"{inches} inches\")\n",
        "\n",
        "main()"
      ],
      "metadata": {
        "id": "7kG_eOIwYcIQ"
      },
      "execution_count": null,
      "outputs": []
    },
    {
      "cell_type": "code",
      "source": [
        "SENTENCE_START: str = \"Panaversity is fun. I learned to program and used Python to make my \"\n",
        "\n",
        "def main():\n",
        "    adjective=input(\"put any Adjective and press enter...\")\n",
        "    noun=input(\"put any noun and press enter...\")\n",
        "    verb=input(\"put any verb and press enter...\")\n",
        "\n",
        "    joint=SENTENCE_START +\" \"+ adjective +\" \"+noun + \" \"+verb\n",
        "\n",
        "    print( joint)\n",
        "main()"
      ],
      "metadata": {
        "id": "KWIMGXV8YhkM"
      },
      "execution_count": null,
      "outputs": []
    },
    {
      "cell_type": "code",
      "source": [
        "def main():\n",
        "    firstNumber=int(input(\"Enter a First Number \"))\n",
        "    secondNumber=int(input(\"Enter a Second Number \"))\n",
        "\n",
        "    quotient=firstNumber // secondNumber\n",
        "    reminder=firstNumber % secondNumber\n",
        "\n",
        "    print(f\"divided value is {quotient}\")\n",
        "\n",
        "    print(f\"remindar value is {reminder}\")\n",
        "main()\n",
        "\n"
      ],
      "metadata": {
        "id": "LHcBLqyQYq7f"
      },
      "execution_count": null,
      "outputs": []
    },
    {
      "cell_type": "code",
      "source": [
        "import random\n",
        "\n",
        "die1:int= random.randint(1,6)\n",
        "die2:int= random.randint(1,6)\n",
        "\n",
        "print(f\"is your first die number {die1}\")\n",
        "print(f\"is your second die number {die2}\")\n",
        "print(f\"is your sum of two die numbers {die1 + die2}\")"
      ],
      "metadata": {
        "id": "ShSwl04JYxpC"
      },
      "execution_count": null,
      "outputs": []
    },
    {
      "cell_type": "code",
      "source": [
        "def main():\n",
        "    DAY_IN_YEAR:int=365\n",
        "    HOUR_IN_DAY:int=24\n",
        "    MIN_IN_HOUR:int=60\n",
        "    MIN_IN_SECOND:int=60\n",
        "\n",
        "    second_in_year=DAY_IN_YEAR*HOUR_IN_DAY*MIN_IN_SECOND*MIN_IN_HOUR\n",
        "\n",
        "    print(f\"There are {second_in_year} second in year!\")\n",
        "\n",
        "main()"
      ],
      "metadata": {
        "id": "N6H0ZW6VY1Ro"
      },
      "execution_count": null,
      "outputs": []
    }
  ]
}