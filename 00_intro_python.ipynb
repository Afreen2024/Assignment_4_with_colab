{
  "nbformat": 4,
  "nbformat_minor": 0,
  "metadata": {
    "colab": {
      "provenance": [],
      "authorship_tag": "ABX9TyPLSeRJPjuDvVJlB7+T76jv",
      "include_colab_link": true
    },
    "kernelspec": {
      "name": "python3",
      "display_name": "Python 3"
    },
    "language_info": {
      "name": "python"
    }
  },
  "cells": [
    {
      "cell_type": "markdown",
      "metadata": {
        "id": "view-in-github",
        "colab_type": "text"
      },
      "source": [
        "<a href=\"https://colab.research.google.com/github/Afreen2024/Assignment_4_with_colab/blob/main/00_intro_python.ipynb\" target=\"_parent\"><img src=\"https://colab.research.google.com/assets/colab-badge.svg\" alt=\"Open In Colab\"/></a>"
      ]
    },
    {
      "cell_type": "code",
      "execution_count": 1,
      "metadata": {
        "colab": {
          "base_uri": "https://localhost:8080/"
        },
        "id": "0X1Xwfr_QB2r",
        "outputId": "ebeaa80c-66d2-4de8-85bf-38dd7d7ac264"
      },
      "outputs": [
        {
          "output_type": "stream",
          "name": "stdout",
          "text": [
            "enter a first number 2\n",
            "enter a second number 3\n",
            "your value is 5\n"
          ]
        }
      ],
      "source": [
        "\n",
        "def main():\n",
        " num1=int(input(\"enter a first number \"))\n",
        " num2= int(input(\"enter a second number \"))\n",
        " result=num1 + num2\n",
        " print(f\"your value is {result}\")\n",
        "main()"
      ]
    },
    {
      "cell_type": "code",
      "source": [
        "def main():\n",
        "    Animal=input(\"Enter your favorite animal \")\n",
        "    print(f\"your favorite animal is {Animal}\")\n",
        "main()"
      ],
      "metadata": {
        "id": "77nQDRi8RaBS"
      },
      "execution_count": null,
      "outputs": []
    },
    {
      "cell_type": "code",
      "source": [
        "def main():\n",
        "\n",
        " farhenhiet= float(input(\"Enter a Temperature\"))\n",
        " celsius= (farhenhiet-32)*5.0/9.0\n",
        " print(f\"your clesius is {celsius}\")\n",
        "main()"
      ],
      "metadata": {
        "id": "m7FzUZ6CRl5g"
      },
      "execution_count": null,
      "outputs": []
    },
    {
      "cell_type": "code",
      "source": [
        "def main():\n",
        "    Anthon_Age= 21\n",
        "    Beth_Age= Anthon_Age + 6\n",
        "    Chen_Age = Beth_Age + 20\n",
        "    Drew_Age = Anthon_Age + Chen_Age\n",
        "    Ethan_Age= Chen_Age\n",
        "\n",
        "    print(f\"Anthon Age is {Anthon_Age} years old\")\n",
        "    print(f\"Beth Age is {Beth_Age} year old \")\n",
        "    print(f\"Chen Age is {Chen_Age} years old\")\n",
        "    print(f\"Drew Age is {Drew_Age} years old\")\n",
        "    print(f\"Ethan Age is {Ethan_Age} years old\")\n",
        "\n",
        "\n",
        "main()"
      ],
      "metadata": {
        "id": "0v0MtMSMR66t"
      },
      "execution_count": null,
      "outputs": []
    },
    {
      "cell_type": "code",
      "source": [
        "def main():\n",
        "    side1=float(input(\"Enter a first side of Triangle \"))\n",
        "    side2=float(input(\"Enter a second side of Triangle \"))\n",
        "    side3=float(input(\"Enter a third side of Triangle \"))\n",
        "\n",
        "    primeter=side1+side2+side3\n",
        "\n",
        "    print(f\"Triangle Premeter is {primeter}\")\n",
        "main()"
      ],
      "metadata": {
        "id": "Tx6Awdn1SEdr"
      },
      "execution_count": null,
      "outputs": []
    },
    {
      "cell_type": "code",
      "source": [
        "def main():\n",
        "    number=float(input(\"Enter any number for find square \"))\n",
        "    result=number **2\n",
        "    print(f\"{number} square is {result}\")\n",
        "\n",
        "main()"
      ],
      "metadata": {
        "id": "R8tj_C4nSLhe"
      },
      "execution_count": null,
      "outputs": []
    }
  ]
}