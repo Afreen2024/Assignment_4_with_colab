{
  "nbformat": 4,
  "nbformat_minor": 0,
  "metadata": {
    "colab": {
      "provenance": [],
      "authorship_tag": "ABX9TyMhcS4ewaKF5nMY9sYjFe4g",
      "include_colab_link": true
    },
    "kernelspec": {
      "name": "python3",
      "display_name": "Python 3"
    },
    "language_info": {
      "name": "python"
    }
  },
  "cells": [
    {
      "cell_type": "markdown",
      "metadata": {
        "id": "view-in-github",
        "colab_type": "text"
      },
      "source": [
        "<a href=\"https://colab.research.google.com/github/Afreen2024/Assignment_4_with_colab/blob/main/05_loops_control_flow.ipynb\" target=\"_parent\"><img src=\"https://colab.research.google.com/assets/colab-badge.svg\" alt=\"Open In Colab\"/></a>"
      ]
    },
    {
      "cell_type": "code",
      "execution_count": null,
      "metadata": {
        "id": "ohQ62lo-CRyt"
      },
      "outputs": [],
      "source": [
        "def main():\n",
        "    curr_value= int(input(\"Enter a num plz \"))\n",
        "    while curr_value < 100:\n",
        "     curr_value=curr_value*2\n",
        "     print(f\"doubled number{curr_value} \\n\", end=\" \" )\n",
        "main()"
      ]
    },
    {
      "cell_type": "code",
      "source": [
        "def main():\n",
        "    Secret_Number=random.randint(1,99)\n",
        "\n",
        "    print(\"you choose num between 1 to 99 \")\n",
        "    gusess=int(input(\"Enter a guses number\"))\n",
        "\n",
        "    while Secret_Number != gusess:\n",
        "        if gusess < Secret_Number:\n",
        "             print(\"you choose very low number\")\n",
        "\n",
        "        else:\n",
        "            print(\"you choose very high number\")\n",
        "\n",
        "        print()\n",
        "        gusess=int(input(\"Enter a guses number AGAIN \"))\n",
        "\n",
        "    print(f\"congrasulation! you have gues Right_Number {Secret_Number}\")\n",
        "main()"
      ],
      "metadata": {
        "id": "u7Caz5iMDHMb"
      },
      "execution_count": null,
      "outputs": []
    },
    {
      "cell_type": "code",
      "source": [
        "def main():\n",
        "    for i in range(10,0,-1):\n",
        "        print(i, end=' ')\n",
        "    print(\"liftoff!\")\n",
        "main()"
      ],
      "metadata": {
        "id": "Ig9YPlpYDVur"
      },
      "execution_count": null,
      "outputs": []
    },
    {
      "cell_type": "code",
      "source": [
        "AFFIRMATION='yes main har kam kar sakti ho'\n",
        "\n",
        "def main():\n",
        "\n",
        "    while True:\n",
        "        user_input=input(\"plz same line likhy: \"+ AFFIRMATION + \"\\n\" )\n",
        "\n",
        "        if AFFIRMATION ==user_input:\n",
        "            print(\"GOOD DEAR\")\n",
        "            break\n",
        "        else:\n",
        "            print(\"TRY AGAIN!!!!!!!!!!!! \")\n",
        "\n",
        "\n",
        "main()"
      ],
      "metadata": {
        "id": "bEC6SoQsDaYD"
      },
      "execution_count": null,
      "outputs": []
    },
    {
      "cell_type": "code",
      "source": [
        "def main():\n",
        " num1=int(input(\"enter a first number \"))\n",
        " num2= int(input(\"enter a second number \"))\n",
        " result=num1 + num2\n",
        " print(f\"your value is {result}\")\n",
        "main()"
      ],
      "metadata": {
        "id": "hH5rMqF8Dor0"
      },
      "execution_count": null,
      "outputs": []
    },
    {
      "cell_type": "code",
      "source": [
        "for i in range(20):\n",
        "    print(i*2)"
      ],
      "metadata": {
        "id": "fj8350xnCm5N"
      },
      "execution_count": null,
      "outputs": []
    },
    {
      "cell_type": "code",
      "source": [
        "Max_value=1000\n",
        "\n",
        "a,b=0,1\n",
        "while a < Max_value:\n",
        "    print(a,end=\" \")\n",
        "    a,b=b, a+b"
      ],
      "metadata": {
        "id": "MghOMbtXDBV3"
      },
      "execution_count": null,
      "outputs": []
    }
  ]
}