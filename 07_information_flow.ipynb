{
  "nbformat": 4,
  "nbformat_minor": 0,
  "metadata": {
    "colab": {
      "provenance": [],
      "authorship_tag": "ABX9TyNjlV5T9Ms3HyT4fko15JUW",
      "include_colab_link": true
    },
    "kernelspec": {
      "name": "python3",
      "display_name": "Python 3"
    },
    "language_info": {
      "name": "python"
    }
  },
  "cells": [
    {
      "cell_type": "markdown",
      "metadata": {
        "id": "view-in-github",
        "colab_type": "text"
      },
      "source": [
        "<a href=\"https://colab.research.google.com/github/Afreen2024/Assignment_4_with_colab/blob/main/07_information_flow.ipynb\" target=\"_parent\"><img src=\"https://colab.research.google.com/assets/colab-badge.svg\" alt=\"Open In Colab\"/></a>"
      ]
    },
    {
      "cell_type": "code",
      "execution_count": null,
      "metadata": {
        "id": "4c-4WH4SI11u"
      },
      "outputs": [],
      "source": [
        "ADULT_AGE=18\n",
        "\n",
        "def is_adult(age):\n",
        "    return age >= ADULT_AGE\n",
        "age=int(input(\"Enter your Age \"))\n",
        "print(is_adult(age))\n",
        "is_adult(18)"
      ]
    },
    {
      "cell_type": "code",
      "source": [
        "def greet(name):\n",
        "    print(f\"Greeting {name}!\")\n",
        "def main():\n",
        "    name=input(\"what your name \")\n",
        "    greet(name)\n",
        "main()"
      ],
      "metadata": {
        "id": "Z0r5YFV1JMLL"
      },
      "execution_count": null,
      "outputs": []
    },
    {
      "cell_type": "code",
      "source": [
        "def get_user_data():\n",
        "    name=input(\"enter your name \")\n",
        "    father_name=input(\"enter your father name \")\n",
        "    email =input(\"enter your email \")\n",
        "\n",
        "    return name ,father_name ,email\n",
        "user_data=get_user_data()\n",
        "print(\"\\n user foloowing data is here ..\",user_data)"
      ],
      "metadata": {
        "id": "9fkWOz7qJRnK"
      },
      "execution_count": null,
      "outputs": []
    },
    {
      "cell_type": "code",
      "source": [
        "def is_range(n,low,high):\n",
        "    return low >= n >= high\n",
        "print(is_range(25,5,30))\n",
        "\n",
        "is_range(25,5,30)"
      ],
      "metadata": {
        "id": "lYSEuIUFJc2e"
      },
      "execution_count": null,
      "outputs": []
    },
    {
      "cell_type": "code",
      "source": [
        "inventory ={\n",
        "    \"apple\":200,\n",
        "    \"banana\":300,\n",
        "    \"apricot\":250,\n",
        "    \"orange\":100,\n",
        "    }\n",
        "def num_in_stock(fruit):\n",
        "    return inventory.get(fruit,0)\n",
        "def main():\n",
        "    fruit=input(\"Enter a Fruit Name...\").strip().lower()\n",
        "\n",
        "    stock=num_in_stock(fruit)\n",
        "\n",
        "    if stock > 0:\n",
        "       print(\"this fruit is available in stock\",stock)\n",
        "    else:\n",
        "       print(\"this fruit is out of stock\")\n",
        "main()"
      ],
      "metadata": {
        "id": "7gyjC_XaJh61"
      },
      "execution_count": null,
      "outputs": []
    },
    {
      "cell_type": "code",
      "source": [
        "def sub_number(num):\n",
        "    return num-7\n",
        "def main():\n",
        "    num=int(input(\"Enter any number \"))\n",
        "    result=sub_number(num)\n",
        "    print(f\"your ans is {result}\")\n",
        "main()"
      ],
      "metadata": {
        "id": "ex9MJoPCLUbL"
      },
      "execution_count": null,
      "outputs": []
    }
  ]
}